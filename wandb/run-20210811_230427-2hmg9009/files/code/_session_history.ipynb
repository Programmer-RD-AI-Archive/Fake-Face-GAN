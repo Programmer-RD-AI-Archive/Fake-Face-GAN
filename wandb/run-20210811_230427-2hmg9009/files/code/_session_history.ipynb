{
 "cells": [
  {
   "cell_type": "code",
   "execution_count": 1,
   "id": "6798414e",
   "metadata": {},
   "outputs": [],
   "source": [
    "import random\n",
    "from tqdm import tqdm\n",
    "import torch,torchvision\n",
    "from torch.nn import *\n",
    "from torch.optim import *\n",
    "import numpy as np\n",
    "import pandas as pd\n",
    "import cv2\n",
    "import matplotlib.pyplot as plt\n",
    "import wandb\n",
    "import os\n",
    "np.random.seed(42)\n",
    "random.seed(42)\n",
    "torch.manual_seed(42)\n",
    "PROJECT_NAME = 'Fake-Face-V1'\n",
    "device = 'cuda'\n",
    "IMG_SIZE = 224"
   ]
  },
  {
   "cell_type": "code",
   "execution_count": 2,
   "id": "9bde40f2",
   "metadata": {},
   "outputs": [],
   "source": [
    "transformations = torchvision.transforms.Compose(\n",
    "[torchvision.transforms.ToTensor()]\n",
    ")"
   ]
  },
  {
   "cell_type": "code",
   "execution_count": 3,
   "id": "719bdd8d",
   "metadata": {},
   "outputs": [],
   "source": [
    "def load_data(data_dir='./data/'):\n",
    "    idx = -1\n",
    "    data = []\n",
    "    for file in tqdm(os.listdir(data_dir)):\n",
    "        idx += 1\n",
    "        file = data_dir + file\n",
    "        img = cv2.imread(file)\n",
    "        img = cv2.resize(img,(IMG_SIZE,IMG_SIZE))\n",
    "        data.append(np.array(transformations(np.array(img))))\n",
    "    return data"
   ]
  },
  {
   "cell_type": "code",
   "execution_count": 4,
   "id": "4d431e0e",
   "metadata": {},
   "outputs": [],
   "source": [
    "# data = load_data()"
   ]
  },
  {
   "cell_type": "code",
   "execution_count": 5,
   "id": "4b8c288c",
   "metadata": {},
   "outputs": [],
   "source": [
    "# data = torch.from_numpy(np.array(data))"
   ]
  },
  {
   "cell_type": "code",
   "execution_count": 6,
   "id": "0bb89853",
   "metadata": {},
   "outputs": [],
   "source": [
    "# torch.save(data,'data.pt')\n",
    "# torch.save(data,'data.pth')"
   ]
  },
  {
   "cell_type": "code",
   "execution_count": 7,
   "id": "e4ca2bd1",
   "metadata": {},
   "outputs": [],
   "source": [
    "data = load_data()"
   ]
  },
  {
   "cell_type": "code",
   "execution_count": 8,
   "id": "3d439232",
   "metadata": {},
   "outputs": [],
   "source": [
    "data = torch.from_numpy(np.array(data))"
   ]
  },
  {
   "cell_type": "code",
   "execution_count": 9,
   "id": "1166b320",
   "metadata": {},
   "outputs": [],
   "source": [
    "# torch.save(data,'data.pt')\n",
    "# torch.save(data,'data.pth')"
   ]
  },
  {
   "cell_type": "code",
   "execution_count": 10,
   "id": "062d6741",
   "metadata": {},
   "outputs": [],
   "source": [
    "# data = torch.load('data.pt')"
   ]
  },
  {
   "cell_type": "code",
   "execution_count": 11,
   "id": "cdec4def",
   "metadata": {},
   "outputs": [],
   "source": [
    "plt.imshow(data[0])"
   ]
  },
  {
   "cell_type": "code",
   "execution_count": 12,
   "id": "91144e1a",
   "metadata": {},
   "outputs": [
    {
     "name": "stdout",
     "output_type": "stream",
     "text": [
      "<matplotlib.image.AxesImage at 0x7f9cad2dfdd0>"
     ]
    }
   ],
   "source": [
    "plt.imshow(data[0].view(224,224,3))"
   ]
  },
  {
   "cell_type": "code",
   "execution_count": 13,
   "id": "a03068ec",
   "metadata": {},
   "outputs": [
    {
     "name": "stdout",
     "output_type": "stream",
     "text": [
      "<matplotlib.image.AxesImage at 0x7f9cad24d090>"
     ]
    }
   ],
   "source": [
    "plt.imshow(data[0].view(IMG_SIZE,IMG_SIZE,3))"
   ]
  },
  {
   "cell_type": "code",
   "execution_count": 14,
   "id": "89019129",
   "metadata": {},
   "outputs": [],
   "source": [
    "class Desc(Module):\n",
    "    def __init__(self,starter=512,activation=ReLU()):\n",
    "        super().__init__()\n",
    "        self.dropout = Dropout()\n",
    "        self.activation = activation\n",
    "        self.linear1 = Linear(IMG_SIZE*IMG_SIZE*3,starter)\n",
    "        self.linear1batchnorm = BatchNorm1d(starter)\n",
    "        self.linear2 = Linear(starter,starter*2)\n",
    "        self.linear2batchnorm = BatchNorm1d(starter*2)\n",
    "        self.linear3 = Linear(starter*2,starter*2*2)\n",
    "        self.linear3batchnorm = BatchNorm1d(starter*2*2)\n",
    "        self.linear4 = Linear(starter*2*2,starter*2)\n",
    "        self.linear4batchnorm = BatchNorm1d(starter*2)\n",
    "        self.output = Linear(starter*2,1)\n",
    "        self.output_activation = Sigmoid()\n",
    "        \n",
    "    def forward(self,X):\n",
    "        preds = self.dropout(self.activation(self.linear1batchnorm(self.linear1(X))))\n",
    "        preds = self.dropout(self.activation(self.linear2batchnorm(self.linear2(preds))))\n",
    "        preds = self.dropout(self.activation(self.linear3batchnorm(self.linear3(preds))))\n",
    "        preds = self.dropout(self.activation(self.linear4batchnorm(self.linear4(preds))))\n",
    "        preds = self.output_activation(self.output(preds))\n",
    "        return preds"
   ]
  },
  {
   "cell_type": "code",
   "execution_count": 15,
   "id": "97fab8b5",
   "metadata": {},
   "outputs": [],
   "source": [
    "class Gen(Module):\n",
    "    def __init__(self,z_dim,starter=512,activation=ReLU()):\n",
    "        super().__init__()\n",
    "        self.dropout = Dropout()\n",
    "        self.activation = activation\n",
    "        self.linear1 = Linear(z_dim,starter)\n",
    "        self.linear1batchnorm = BatchNorm1d(starter)\n",
    "        self.linear2 = Linear(starter,starter*2)\n",
    "        self.linear2batchnorm = BatchNorm1d(starter*2)\n",
    "        self.linear3 = Linear(starter*2,starter*2*2)\n",
    "        self.linear3batchnorm = BatchNorm1d(starter*2*2)\n",
    "        self.linear4 = Linear(starter*2*2,starter*2)\n",
    "        self.linear4batchnorm = BatchNorm1d(starter*2)\n",
    "        self.output = Linear(starter*2,IMG_SIZE*IMG_SIZE*3)\n",
    "        self.output_activation = Tanh()\n",
    "        \n",
    "    def forward(self,X):\n",
    "        preds = self.dropout(self.activation(self.linear1batchnorm(self.linear1(X))))\n",
    "        preds = self.dropout(self.activation(self.linear2batchnorm(self.linear2(preds))))\n",
    "        preds = self.dropout(self.activation(self.linear3batchnorm(self.linear3(preds))))\n",
    "        preds = self.dropout(self.activation(self.linear4batchnorm(self.linear4(preds))))\n",
    "        preds = self.output_activation(self.output(preds))"
   ]
  },
  {
   "cell_type": "code",
   "execution_count": 16,
   "id": "224296ef",
   "metadata": {},
   "outputs": [],
   "source": [
    "z_dim = 64\n",
    "gen = Gen().to(device)\n",
    "desc = Desc().to(device)\n",
    "lr = 3e-4\n",
    "batch_size = 32\n",
    "epochs = 100\n",
    "optimizer_gen = Adam(gen.parameters(),lr=lr)\n",
    "optimizer_desc = Adam(desc.parameters(),lr=lr)\n",
    "criterion = BCELoss()\n",
    "fixed_noise = torch.randn((batch_size,z_dim)).to(device)"
   ]
  },
  {
   "cell_type": "code",
   "execution_count": 17,
   "id": "898fe3c4",
   "metadata": {},
   "outputs": [],
   "source": [
    "z_dim = 64\n",
    "gen = Gen(z_dim).to(device)\n",
    "desc = Desc().to(device)\n",
    "lr = 3e-4\n",
    "batch_size = 32\n",
    "epochs = 100\n",
    "optimizer_gen = Adam(gen.parameters(),lr=lr)\n",
    "optimizer_desc = Adam(desc.parameters(),lr=lr)\n",
    "criterion = BCELoss()\n",
    "fixed_noise = torch.randn((batch_size,z_dim)).to(device)"
   ]
  },
  {
   "cell_type": "code",
   "execution_count": 18,
   "id": "a97cb6ba",
   "metadata": {},
   "outputs": [
    {
     "data": {
      "text/html": [
       "\n",
       "                Tracking run with wandb version 0.12.0<br/>\n",
       "                Syncing run <strong style=\"color:#cdcd00\">baseline</strong> to <a href=\"https://wandb.ai\" target=\"_blank\">Weights & Biases</a> <a href=\"https://docs.wandb.com/integrations/jupyter.html\" target=\"_blank\">(Documentation)</a>.<br/>\n",
       "                Project page: <a href=\"https://wandb.ai/ranuga-d/Fake-Face-V1\" target=\"_blank\">https://wandb.ai/ranuga-d/Fake-Face-V1</a><br/>\n",
       "                Run page: <a href=\"https://wandb.ai/ranuga-d/Fake-Face-V1/runs/2hmg9009\" target=\"_blank\">https://wandb.ai/ranuga-d/Fake-Face-V1/runs/2hmg9009</a><br/>\n",
       "                Run data is saved locally in <code>/home/indika/Programming/Projects/Python/Artifical-Intelligence/PyTorch/GAN/Fake-Face/wandb/run-20210811_230427-2hmg9009</code><br/><br/>\n",
       "            "
      ],
      "text/plain": [
       "<IPython.core.display.HTML object>"
      ]
     },
     "metadata": {},
     "output_type": "display_data"
    }
   ],
   "source": [
    "wandb.init(project=PROJECT_NAME,name='baseline')\n",
    "for _ in tqdm(range(epochs)):\n",
    "    for idx in range(0,len(data),batch_size):\n",
    "        data_batch = data[idx:idx+batch_size].view(IMG_SIZE*IMG_SIZE*3).float().to(device)\n",
    "        batch_size = data_batch.shape[0]\n",
    "        noise = torch.randn((batch_size,z_dim)).to(device)\n",
    "        fake = gen(noise)\n",
    "        desc_fake = desc(fake)\n",
    "        lossD_fake = criterion(desc_fake,torch.zeros_like(desc_fake))\n",
    "        desc_real = desc(data_batch)\n",
    "        lossD_real = criterion(desc_real,torch.ones_like(desc_real))\n",
    "        lossD = (lossD_fake/lossD_real)/2\n",
    "        desc.zero_grad()\n",
    "        lossD.backward(retain_graph=True)\n",
    "        wandb.log({'lossD':lossD.item()})\n",
    "        optimizer_desc.step()\n",
    "        output = desc(fake).view(-1)\n",
    "        lossG = criterion(output,torch.ones_like(output))\n",
    "        gen.zero_grad()\n",
    "        lossG.backward()\n",
    "        wandb.log({'lossG':lossG.item()})\n",
    "        optimizer_gen.step()\n",
    "with torch.no_grad():\n",
    "    fake = gen(fixed_noise).view(-1,3,IMG_SIZE,IMG_SIZE)\n",
    "    img_grid_fake = torchvision.utils.make_grid(fake, normalize=True)\n",
    "    wandb.log({'img':wandb.Image(img_grid_fake)})"
   ]
  },
  {
   "cell_type": "code",
   "execution_count": 19,
   "id": "7070bc1e",
   "metadata": {},
   "outputs": [
    {
     "name": "stdout",
     "output_type": "stream",
     "text": [
      "tensor([[[[0.1765, 0.1176, 0.0510,  ..., 0.6000, 0.3804, 0.0980],\n",
      "          [0.0667, 0.0353, 0.0353,  ..., 0.5137, 0.5804, 0.6118],\n",
      "          [0.0314, 0.0157, 0.0353,  ..., 0.6863, 0.5255, 0.4431],\n",
      "          ...,\n",
      "          [0.0118, 0.0000, 0.0000,  ..., 0.0235, 0.0392, 0.0431],\n",
      "          [0.0157, 0.0039, 0.0000,  ..., 0.0235, 0.0431, 0.0549],\n",
      "          [0.0157, 0.0039, 0.0000,  ..., 0.0196, 0.0431, 0.0549]],\n",
      "\n",
      "         [[0.1843, 0.1059, 0.0588,  ..., 0.6549, 0.4157, 0.1137],\n",
      "          [0.0627, 0.0353, 0.0314,  ..., 0.5529, 0.6314, 0.6824],\n",
      "          [0.0235, 0.0275, 0.0275,  ..., 0.7412, 0.5686, 0.4667],\n",
      "          ...,\n",
      "          [0.0118, 0.0000, 0.0000,  ..., 0.0275, 0.0392, 0.0471],\n",
      "          [0.0157, 0.0039, 0.0000,  ..., 0.0314, 0.0431, 0.0588],\n",
      "          [0.0157, 0.0039, 0.0000,  ..., 0.0275, 0.0431, 0.0588]],\n",
      "\n",
      "         [[0.1882, 0.1137, 0.0667,  ..., 0.6431, 0.4392, 0.1451],\n",
      "          [0.0784, 0.0510, 0.0471,  ..., 0.5412, 0.6235, 0.6588],\n",
      "          [0.0392, 0.0431, 0.0431,  ..., 0.7412, 0.5686, 0.4824],\n",
      "          ...,\n",
      "          [0.0118, 0.0000, 0.0000,  ..., 0.0275, 0.0392, 0.0392],\n",
      "          [0.0157, 0.0039, 0.0000,  ..., 0.0314, 0.0431, 0.0510],\n",
      "          [0.0157, 0.0039, 0.0000,  ..., 0.0275, 0.0431, 0.0510]]],\n",
      "\n",
      "\n",
      "        [[[0.4314, 0.3686, 0.3255,  ..., 0.5059, 0.5804, 0.6196],\n",
      "          [0.4353, 0.3961, 0.3333,  ..., 0.4745, 0.4627, 0.4784],\n",
      "          [0.4353, 0.4510, 0.3529,  ..., 0.4431, 0.5333, 0.5333],\n",
      "          ...,\n",
      "          [0.3255, 0.3137, 0.3176,  ..., 0.3961, 0.3255, 0.3569],\n",
      "          [0.3020, 0.3373, 0.3765,  ..., 0.3804, 0.3647, 0.3725],\n",
      "          [0.3216, 0.3529, 0.4118,  ..., 0.3922, 0.3843, 0.3529]],\n",
      "\n",
      "         [[0.4588, 0.3922, 0.3490,  ..., 0.5098, 0.5882, 0.6314],\n",
      "          [0.4667, 0.4196, 0.3608,  ..., 0.4941, 0.4784, 0.5059],\n",
      "          [0.4588, 0.4824, 0.3804,  ..., 0.4510, 0.5451, 0.5490],\n",
      "          ...,\n",
      "          [0.3294, 0.3176, 0.3294,  ..., 0.4078, 0.3255, 0.3490],\n",
      "          [0.3059, 0.3373, 0.3843,  ..., 0.3843, 0.3608, 0.3647],\n",
      "          [0.3255, 0.3529, 0.4118,  ..., 0.3882, 0.3765, 0.3490]],\n",
      "\n",
      "         [[0.4471, 0.3882, 0.3294,  ..., 0.5255, 0.6157, 0.6510],\n",
      "          [0.4667, 0.4235, 0.3412,  ..., 0.4980, 0.4980, 0.5176],\n",
      "          [0.4745, 0.4863, 0.3647,  ..., 0.4510, 0.5608, 0.5529],\n",
      "          ...,\n",
      "          [0.2941, 0.2824, 0.2941,  ..., 0.4000, 0.3176, 0.3451],\n",
      "          [0.2667, 0.3059, 0.3608,  ..., 0.3725, 0.3490, 0.3529],\n",
      "          [0.2863, 0.3255, 0.4000,  ..., 0.3725, 0.3608, 0.3333]]],\n",
      "\n",
      "\n",
      "        [[[0.5647, 0.5608, 0.5529,  ..., 0.7804, 0.7725, 0.7686],\n",
      "          [0.5647, 0.5608, 0.5569,  ..., 0.7765, 0.7725, 0.7686],\n",
      "          [0.5647, 0.5608, 0.5608,  ..., 0.7725, 0.7725, 0.7686],\n",
      "          ...,\n",
      "          [0.0627, 0.0549, 0.0863,  ..., 0.2667, 0.2784, 0.1294],\n",
      "          [0.0745, 0.0667, 0.0667,  ..., 0.1686, 0.2471, 0.3020],\n",
      "          [0.0706, 0.0745, 0.0588,  ..., 0.3608, 0.3176, 0.2980]],\n",
      "\n",
      "         [[0.5843, 0.5804, 0.5725,  ..., 0.7882, 0.7843, 0.7804],\n",
      "          [0.5843, 0.5804, 0.5765,  ..., 0.7882, 0.7843, 0.7804],\n",
      "          [0.5843, 0.5804, 0.5804,  ..., 0.7843, 0.7843, 0.7804],\n",
      "          ...,\n",
      "          [0.0471, 0.0353, 0.0706,  ..., 0.2784, 0.2902, 0.1294],\n",
      "          [0.0588, 0.0510, 0.0510,  ..., 0.1765, 0.2627, 0.3098],\n",
      "          [0.0588, 0.0549, 0.0431,  ..., 0.3882, 0.3294, 0.3137]],\n",
      "\n",
      "         [[0.6196, 0.6157, 0.6078,  ..., 0.8196, 0.8039, 0.7961],\n",
      "          [0.6196, 0.6157, 0.6118,  ..., 0.8157, 0.8039, 0.8000],\n",
      "          [0.6196, 0.6157, 0.6157,  ..., 0.8039, 0.8039, 0.8000],\n",
      "          ...,\n",
      "          [0.0431, 0.0314, 0.0667,  ..., 0.3608, 0.3922, 0.2000],\n",
      "          [0.0549, 0.0431, 0.0471,  ..., 0.3020, 0.3451, 0.3922],\n",
      "          [0.0549, 0.0510, 0.0392,  ..., 0.4941, 0.4235, 0.4078]]],\n",
      "\n",
      "\n",
      "        ...,\n",
      "\n",
      "\n",
      "        [[[1.0000, 1.0000, 1.0000,  ..., 0.9961, 0.9961, 0.9961],\n",
      "          [1.0000, 1.0000, 1.0000,  ..., 0.9961, 0.9961, 0.9961],\n",
      "          [1.0000, 1.0000, 1.0000,  ..., 1.0000, 1.0000, 1.0000],\n",
      "          ...,\n",
      "          [1.0000, 1.0000, 1.0000,  ..., 1.0000, 1.0000, 1.0000],\n",
      "          [1.0000, 1.0000, 1.0000,  ..., 1.0000, 1.0000, 1.0000],\n",
      "          [1.0000, 1.0000, 1.0000,  ..., 1.0000, 1.0000, 1.0000]],\n",
      "\n",
      "         [[1.0000, 1.0000, 1.0000,  ..., 0.9922, 0.9922, 0.9922],\n",
      "          [1.0000, 1.0000, 1.0000,  ..., 0.9961, 0.9961, 0.9961],\n",
      "          [1.0000, 1.0000, 1.0000,  ..., 1.0000, 1.0000, 1.0000],\n",
      "          ...,\n",
      "          [1.0000, 1.0000, 1.0000,  ..., 1.0000, 1.0000, 1.0000],\n",
      "          [1.0000, 1.0000, 1.0000,  ..., 1.0000, 1.0000, 1.0000],\n",
      "          [1.0000, 1.0000, 1.0000,  ..., 1.0000, 1.0000, 1.0000]],\n",
      "\n",
      "         [[1.0000, 1.0000, 1.0000,  ..., 1.0000, 1.0000, 1.0000],\n",
      "          [1.0000, 1.0000, 1.0000,  ..., 0.9961, 0.9961, 0.9961],\n",
      "          [1.0000, 1.0000, 1.0000,  ..., 1.0000, 1.0000, 1.0000],\n",
      "          ...,\n",
      "          [1.0000, 1.0000, 1.0000,  ..., 1.0000, 1.0000, 1.0000],\n",
      "          [1.0000, 1.0000, 1.0000,  ..., 1.0000, 1.0000, 1.0000],\n",
      "          [1.0000, 1.0000, 1.0000,  ..., 1.0000, 1.0000, 1.0000]]],\n",
      "\n",
      "\n",
      "        [[[0.0000, 0.0039, 0.0078,  ..., 0.0667, 0.0667, 0.0745],\n",
      "          [0.0000, 0.0039, 0.0078,  ..., 0.0706, 0.0706, 0.0706],\n",
      "          [0.0000, 0.0039, 0.0078,  ..., 0.0784, 0.0706, 0.0706],\n",
      "          ...,\n",
      "          [0.2078, 0.1843, 0.1765,  ..., 0.0078, 0.0078, 0.0078],\n",
      "          [0.1725, 0.1647, 0.1686,  ..., 0.0078, 0.0078, 0.0118],\n",
      "          [0.1647, 0.1647, 0.1608,  ..., 0.0078, 0.0078, 0.0078]],\n",
      "\n",
      "         [[0.0157, 0.0157, 0.0157,  ..., 0.1412, 0.1412, 0.1490],\n",
      "          [0.0157, 0.0157, 0.0157,  ..., 0.1451, 0.1451, 0.1451],\n",
      "          [0.0157, 0.0157, 0.0157,  ..., 0.1529, 0.1451, 0.1451],\n",
      "          ...,\n",
      "          [0.2157, 0.1882, 0.1804,  ..., 0.0157, 0.0118, 0.0118],\n",
      "          [0.1686, 0.1686, 0.1725,  ..., 0.0157, 0.0157, 0.0157],\n",
      "          [0.1686, 0.1686, 0.1608,  ..., 0.0157, 0.0118, 0.0118]],\n",
      "\n",
      "         [[0.0196, 0.0196, 0.0196,  ..., 0.2471, 0.2471, 0.2549],\n",
      "          [0.0196, 0.0196, 0.0196,  ..., 0.2510, 0.2510, 0.2510],\n",
      "          [0.0196, 0.0196, 0.0196,  ..., 0.2588, 0.2549, 0.2510],\n",
      "          ...,\n",
      "          [0.1882, 0.1686, 0.1725,  ..., 0.0196, 0.0235, 0.0275],\n",
      "          [0.1725, 0.1647, 0.1647,  ..., 0.0196, 0.0235, 0.0314],\n",
      "          [0.1529, 0.1608, 0.1608,  ..., 0.0196, 0.0235, 0.0275]]],\n",
      "\n",
      "\n",
      "        [[[0.5882, 0.6784, 0.6549,  ..., 0.1569, 0.1843, 0.2000],\n",
      "          [0.6235, 0.6667, 0.7059,  ..., 0.2431, 0.1843, 0.2275],\n",
      "          [0.6549, 0.7020, 0.6941,  ..., 0.2824, 0.2157, 0.1922],\n",
      "          ...,\n",
      "          [0.0667, 0.0549, 0.0627,  ..., 0.1216, 0.1255, 0.0941],\n",
      "          [0.0706, 0.0941, 0.0784,  ..., 0.1137, 0.1255, 0.1451],\n",
      "          [0.0588, 0.0706, 0.0706,  ..., 0.1216, 0.1137, 0.1373]],\n",
      "\n",
      "         [[0.5725, 0.6667, 0.6471,  ..., 0.1804, 0.2157, 0.2235],\n",
      "          [0.6118, 0.6588, 0.7020,  ..., 0.2784, 0.2235, 0.2588],\n",
      "          [0.6431, 0.6941, 0.6902,  ..., 0.3255, 0.2745, 0.2431],\n",
      "          ...,\n",
      "          [0.0471, 0.0353, 0.0431,  ..., 0.0784, 0.0824, 0.0471],\n",
      "          [0.0510, 0.0745, 0.0588,  ..., 0.0784, 0.0824, 0.1020],\n",
      "          [0.0392, 0.0510, 0.0510,  ..., 0.0863, 0.0784, 0.0941]],\n",
      "\n",
      "         [[0.6510, 0.7216, 0.6863,  ..., 0.2275, 0.2824, 0.3020],\n",
      "          [0.6745, 0.7098, 0.7412,  ..., 0.3961, 0.3333, 0.3373],\n",
      "          [0.7020, 0.7412, 0.7294,  ..., 0.4235, 0.3804, 0.3490],\n",
      "          ...,\n",
      "          [0.0431, 0.0314, 0.0392,  ..., 0.0627, 0.0667, 0.0235],\n",
      "          [0.0431, 0.0667, 0.0510,  ..., 0.0667, 0.0667, 0.0863],\n",
      "          [0.0275, 0.0392, 0.0392,  ..., 0.0745, 0.0667, 0.0784]]]])"
     ]
    }
   ],
   "source": [
    "data[idx:idx+batch_size]"
   ]
  },
  {
   "cell_type": "code",
   "execution_count": 20,
   "id": "b8d22650",
   "metadata": {},
   "outputs": [
    {
     "name": "stdout",
     "output_type": "stream",
     "text": [
      "torch.Size([32, 3, 224, 224])"
     ]
    }
   ],
   "source": [
    "\n",
    "data[idx:idx+batch_size].shape"
   ]
  },
  {
   "cell_type": "code",
   "execution_count": 21,
   "id": "180b7937",
   "metadata": {},
   "outputs": [],
   "source": [
    "wandb.init(project=PROJECT_NAME,name='baseline')\n",
    "for _ in tqdm(range(epochs)):\n",
    "    for idx in range(0,len(data),batch_size):\n",
    "        data_batch = data[idx:idx+batch_size].view(-1,IMG_SIZE*IMG_SIZE*3).float().to(device)\n",
    "        batch_size = data_batch.shape[0]\n",
    "        noise = torch.randn((batch_size,z_dim)).to(device)\n",
    "        fake = gen(noise)\n",
    "        desc_fake = desc(fake)\n",
    "        lossD_fake = criterion(desc_fake,torch.zeros_like(desc_fake))\n",
    "        desc_real = desc(data_batch)\n",
    "        lossD_real = criterion(desc_real,torch.ones_like(desc_real))\n",
    "        lossD = (lossD_fake/lossD_real)/2\n",
    "        desc.zero_grad()\n",
    "        lossD.backward(retain_graph=True)\n",
    "        wandb.log({'lossD':lossD.item()})\n",
    "        optimizer_desc.step()\n",
    "        output = desc(fake).view(-1)\n",
    "        lossG = criterion(output,torch.ones_like(output))\n",
    "        gen.zero_grad()\n",
    "        lossG.backward()\n",
    "        wandb.log({'lossG':lossG.item()})\n",
    "        optimizer_gen.step()\n",
    "with torch.no_grad():\n",
    "    fake = gen(fixed_noise).view(-1,3,IMG_SIZE,IMG_SIZE)\n",
    "    img_grid_fake = torchvision.utils.make_grid(fake, normalize=True)\n",
    "    wandb.log({'img':wandb.Image(img_grid_fake)})"
   ]
  }
 ],
 "metadata": {
  "kernelspec": {
   "display_name": "Python 3",
   "language": "python",
   "name": "python3"
  },
  "language_info": {
   "codemirror_mode": {
    "name": "ipython",
    "version": 3
   },
   "file_extension": ".py",
   "mimetype": "text/x-python",
   "name": "python",
   "nbconvert_exporter": "python",
   "pygments_lexer": "ipython3",
   "version": "3.7.7"
  }
 },
 "nbformat": 4,
 "nbformat_minor": 5
}
