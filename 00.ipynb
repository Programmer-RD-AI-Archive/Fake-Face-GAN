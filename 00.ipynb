{
 "cells": [
  {
   "cell_type": "code",
   "execution_count": null,
   "id": "0614894f-8f10-49b6-8e70-961264a3c7d0",
   "metadata": {},
   "outputs": [],
   "source": [
    "from torch import nn\n",
    "import random\n",
    "from tqdm import tqdm\n",
    "import torch,torchvision\n",
    "from torch.nn import *\n",
    "from torch.optim import *\n",
    "import numpy as np\n",
    "import pandas as pd\n",
    "import cv2\n",
    "import matplotlib.pyplot as plt\n",
    "import wandb\n",
    "import os\n",
    "np.random.seed(42)\n",
    "random.seed(42)\n",
    "torch.manual_seed(42)\n",
    "PROJECT_NAME = 'Fake-Face-V1'\n",
    "device = 'cuda'\n",
    "IMG_SIZE = 224"
   ]
  },
  {
   "cell_type": "code",
   "execution_count": null,
   "id": "8f4c92da-3b96-4f60-9e3f-26ffa5c061cd",
   "metadata": {},
   "outputs": [],
   "source": [
    "# transformations = torchvision.transforms.Compose(\n",
    "# [torchvision.transforms.ToTensor(),torchvision.transforms.Normalize(0.4,0.4)]\n",
    "# )\n",
    "transformations = torchvision.transforms.Compose(\n",
    "[torchvision.transforms.ToTensor(),torchvision.transforms.ColorJitter(0.5,0.5,0.5,0.5)]\n",
    ")"
   ]
  },
  {
   "cell_type": "code",
   "execution_count": null,
   "id": "85c46a32-bc41-4d66-8dcf-ed6f42a7f4c7",
   "metadata": {},
   "outputs": [],
   "source": [
    "def load_data(data_dir='./data/',transformations=transformations):\n",
    "    idx = -1\n",
    "    data = []\n",
    "    for file in tqdm(os.listdir(data_dir)):\n",
    "        idx += 1\n",
    "        file = data_dir + file\n",
    "        img = cv2.imread(file)\n",
    "        img = cv2.resize(img,(IMG_SIZE,IMG_SIZE))\n",
    "        data.append(np.array(transformations(np.array(img))))\n",
    "    return data"
   ]
  },
  {
   "cell_type": "code",
   "execution_count": null,
   "id": "44238493-75a6-4655-8bc2-3fd7a44a5abf",
   "metadata": {},
   "outputs": [],
   "source": [
    "data = load_data()"
   ]
  },
  {
   "cell_type": "code",
   "execution_count": null,
   "id": "b0b184fc-61ae-4184-a83a-40ae68f9e5f2",
   "metadata": {},
   "outputs": [],
   "source": [
    "data = torch.from_numpy(np.array(data))"
   ]
  },
  {
   "cell_type": "code",
   "execution_count": null,
   "id": "0a261235-99ba-42dd-be47-14d7d8b10da0",
   "metadata": {},
   "outputs": [],
   "source": [
    "# torch.save(data,'data.pt')\n",
    "# torch.save(data,'data.pth')"
   ]
  },
  {
   "cell_type": "code",
   "execution_count": null,
   "id": "b100c975-75d7-4178-9b1e-9ad4d058792d",
   "metadata": {},
   "outputs": [],
   "source": [
    "# data = torch.load('data.pt')"
   ]
  },
  {
   "cell_type": "code",
   "execution_count": null,
   "id": "0c48c622-48f0-487e-ac70-56f32d124ea1",
   "metadata": {},
   "outputs": [],
   "source": [
    "plt.imshow(data[0].view(IMG_SIZE,IMG_SIZE,3))"
   ]
  },
  {
   "cell_type": "code",
   "execution_count": null,
   "id": "2a9ab1b9-5e96-4ebf-bd52-ba13c5848a88",
   "metadata": {},
   "outputs": [],
   "source": [
    "class Desc(nn.Module):\n",
    "    def __init__(self,activation=nn.LeakyReLU,starter=128):\n",
    "        super().__init__()\n",
    "        self.dropout = Dropout()\n",
    "        self.activation = activation()\n",
    "        self.linear1 = Linear(IMG_SIZE*IMG_SIZE*3,starter)\n",
    "        self.linear1batchnorm = BatchNorm1d(starter)\n",
    "        self.linear2 = Linear(starter,starter*2)\n",
    "        self.linear2batchnorm = BatchNorm1d(starter*2)\n",
    "        self.linear3 = Linear(starter*2,starter*4)\n",
    "        self.linear3batchnorm = BatchNorm1d(starter*4)\n",
    "        self.linear4 = Linear(starter*4,starter*2)\n",
    "        self.linear4batchnorm = BatchNorm1d(starter*2)\n",
    "        self.output = Linear(starter*2,1)\n",
    "        self.output_activation = Sigmoid()\n",
    "    \n",
    "    def forward(self,X):\n",
    "        preds = self.dropout(self.activation(self.linear1batchnorm(self.linear1(X))))\n",
    "        preds = self.dropout(self.activation(self.linear2batchnorm(self.linear2(preds))))\n",
    "        preds = self.dropout(self.activation(self.linear3batchnorm(self.linear3(preds))))\n",
    "        preds = self.dropout(self.activation(self.linear4batchnorm(self.linear4(preds))))\n",
    "        preds = self.output_activation(self.output(preds))\n",
    "        return preds\n",
    "        \n",
    "class Gen(nn.Module):\n",
    "    def __init__(self,z_dim,activation=nn.LeakyReLU,starter=512):\n",
    "        super().__init__()\n",
    "        self.activation = activation()\n",
    "        self.linear1 = Linear(z_dim,starter)\n",
    "        self.linear1batchnorm = BatchNorm1d(starter)\n",
    "        self.linear2 = Linear(starter,starter*2)\n",
    "        self.linear2batchnorm = BatchNorm1d(starter*2)\n",
    "        self.linear3 = Linear(starter*2,starter*4)\n",
    "        self.linear3batchnorm = BatchNorm1d(starter*4)\n",
    "        self.linear4 = Linear(starter*4,starter*4)\n",
    "        self.linear4batchnorm = BatchNorm1d(starter*4)\n",
    "        self.linear5 = Linear(starter*4,starter*2)\n",
    "        self.linear5batchnorm = BatchNorm1d(starter*2)\n",
    "        self.output = Linear(starter*2,IMG_SIZE*IMG_SIZE*3)\n",
    "        self.output_activation = Tanh()\n",
    " \n",
    "    def forward(self, X):\n",
    "        preds = self.activation(self.linear1batchnorm(self.linear1(X)))\n",
    "        preds = self.activation(self.linear2batchnorm(self.linear2(preds)))\n",
    "        preds = self.activation(self.linear3batchnorm(self.linear3(preds)))\n",
    "        preds = self.activation(self.linear4batchnorm(self.linear4(preds)))\n",
    "        preds = self.activation(self.linear5batchnorm(self.linear5(preds)))\n",
    "        preds = self.output_activation(self.output(preds))\n",
    "        return preds"
   ]
  },
  {
   "cell_type": "code",
   "execution_count": null,
   "id": "e1fdf30a-0e81-4fb2-8d6c-277f0f96cfe6",
   "metadata": {},
   "outputs": [],
   "source": [
    "data = data[0:1056]"
   ]
  },
  {
   "cell_type": "code",
   "execution_count": null,
   "id": "e87126de-0e97-458a-804a-93b62420ed4f",
   "metadata": {},
   "outputs": [],
   "source": [
    "z_dim = 64\n",
    "gen = Gen(z_dim).to(device)\n",
    "desc = Desc().to(device)\n",
    "lr = 3e-4\n",
    "batch_size = 32\n",
    "epochs = 250\n",
    "optimizer_gen = Adam(gen.parameters(),lr=lr)\n",
    "optimizer_desc = Adam(desc.parameters(),lr=lr)\n",
    "criterion = BCELoss()\n",
    "fixed_noise = torch.randn((batch_size,z_dim)).to(device)"
   ]
  },
  {
   "cell_type": "code",
   "execution_count": null,
   "id": "6b06ccbe-1d71-4237-bb47-c42ddf769af3",
   "metadata": {},
   "outputs": [
    {
     "name": "stderr",
     "output_type": "stream",
     "text": [
      "\u001b[34m\u001b[1mwandb\u001b[0m: Currently logged in as: \u001b[33mranuga-d\u001b[0m (use `wandb login --relogin` to force relogin)\n"
     ]
    },
    {
     "data": {
      "text/html": [
       "\n",
       "                Tracking run with wandb version 0.12.0<br/>\n",
       "                Syncing run <strong style=\"color:#cdcd00\">baseline-0.25</strong> to <a href=\"https://wandb.ai\" target=\"_blank\">Weights & Biases</a> <a href=\"https://docs.wandb.com/integrations/jupyter.html\" target=\"_blank\">(Documentation)</a>.<br/>\n",
       "                Project page: <a href=\"https://wandb.ai/ranuga-d/Fake-Face-V1\" target=\"_blank\">https://wandb.ai/ranuga-d/Fake-Face-V1</a><br/>\n",
       "                Run page: <a href=\"https://wandb.ai/ranuga-d/Fake-Face-V1/runs/2ex1z3m2\" target=\"_blank\">https://wandb.ai/ranuga-d/Fake-Face-V1/runs/2ex1z3m2</a><br/>\n",
       "                Run data is saved locally in <code>/home/indika/Programming/Projects/Python/Artifical-Intelligence/PyTorch/GAN/Fake-Face/wandb/run-20210813_172832-2ex1z3m2</code><br/><br/>\n",
       "            "
      ],
      "text/plain": [
       "<IPython.core.display.HTML object>"
      ]
     },
     "metadata": {},
     "output_type": "display_data"
    },
    {
     "name": "stderr",
     "output_type": "stream",
     "text": [
      " 24%|██▍       | 61/250 [04:18<13:30,  4.29s/it]"
     ]
    }
   ],
   "source": [
    "name = f'baseline-0.5'\n",
    "wandb.init(project=PROJECT_NAME,name=name)\n",
    "epochs_iter = tqdm(range(epochs))\n",
    "for _ in epochs_iter:\n",
    "    torch.cuda.empty_cache()\n",
    "    for idx in range(0,len(data),32):\n",
    "        try:\n",
    "            torch.cuda.empty_cache()\n",
    "            data_batch = torch.tensor(np.array(data[idx:idx+batch_size])).view(-1,IMG_SIZE*IMG_SIZE*3).to(device)\n",
    "            batch_size = data_batch.shape[0]\n",
    "            noise = torch.randn(batch_size,z_dim).to(device)\n",
    "            fake = gen(noise)\n",
    "            desc_real = desc(data_batch).view(-1)\n",
    "            lossD_real = criterion(desc_real,torch.ones_like(desc_real))\n",
    "            desc_fake = desc(fake).view(-1)\n",
    "            lossD_fake = criterion(desc_fake,torch.zeros_like(desc_fake))\n",
    "            lossD = (lossD_real+lossD_fake)/2\n",
    "            desc.zero_grad()\n",
    "            lossD.backward(retain_graph=True)\n",
    "            wandb.log({'lossD':lossD.item()})\n",
    "            optimizer_desc.step()\n",
    "            output = desc(fake).view(-1)\n",
    "            lossG = criterion(output,torch.ones_like(output))\n",
    "            gen.zero_grad()\n",
    "            lossG.backward()\n",
    "            wandb.log({'lossG':lossG.item()})\n",
    "            optimizer_gen.step()\n",
    "        except Exception as e:\n",
    "            pass\n",
    "with torch.no_grad():\n",
    "    fake = gen(fixed_noise).view(-1,3,IMG_SIZE,IMG_SIZE)\n",
    "    img_grid_fake = torchvision.utils.make_grid(fake, normalize=True)\n",
    "    wandb.log({'img':wandb.Image(img_grid_fake)})\n",
    "wandb.finish()"
   ]
  },
  {
   "cell_type": "code",
   "execution_count": 15,
   "id": "e808c7a0-5375-44ad-a877-a83ccb7fa64f",
   "metadata": {},
   "outputs": [],
   "source": [
    "# gen_starters = [1024,2048,2048*2,2048*4]\n",
    "# gen_activations = [ELU,LeakyReLU,PReLU,ReLU,ReLU6,RReLU,SELU,GELU,SiLU,Tanh]\n",
    "# desc_activations = [ELU,LeakyReLU,PReLU,ReLU,ReLU6,RReLU,SELU,GELU,SiLU,Tanh]\n",
    "# lrs = [8e-1,8e-2,8e-3,,8e-5]\n",
    "# then lrs = [whateverbest_lr-1,whateverbest_lr-2,whateverbest_lr-3,whateverbest_lr-4,whateverbest_lr-5]\n",
    "# batch_sizes = [8,16,32,64,128,256,512]\n",
    "# optimizers_gen = [Adam,AdamW,Adamax,ASGD,SGD,Rprop,RMSprop]\n",
    "# optimizers_desc = [Adam,AdamW,Adamax,ASGD,SGD,Rprop,RMSprop]\n",
    "# criterions = [BCELoss(),MSELoss(),L1Loss()]"
   ]
  },
  {
   "cell_type": "code",
   "execution_count": 16,
   "id": "45cb753e-04d8-4ba9-afc0-28247a65a307",
   "metadata": {},
   "outputs": [],
   "source": [
    "# for optimizer_gen in optimizers_gen:\n",
    "#     z_dim = 256\n",
    "#     gen = Gen(z_dim,starter=1024,activation=LeakyReLU).to(device)\n",
    "#     desc = Desc(activation=SiLU).to(device)\n",
    "#     lr = 8e-4\n",
    "#     batch_size = 32\n",
    "#     epochs = 100\n",
    "#     optimizer_gen = optimizer_gen(gen.parameters(),lr=lr)\n",
    "#     optimizer_desc = Adam(desc.parameters(),lr=lr)\n",
    "#     criterion = BCELoss()\n",
    "#     fixed_noise = torch.randn((batch_size,z_dim)).to(device)\n",
    "#     name = f'{optimizer_gen}-optimizer_gen'\n",
    "#     wandb.init(project=PROJECT_NAME,name=name)\n",
    "#     epochs_iter = tqdm(range(epochs),desc='Bar desc')\n",
    "#     for _ in epochs_iter:\n",
    "#         torch.cuda.empty_cache()\n",
    "#         for idx in range(0,len(data),batch_size):\n",
    "#             try:\n",
    "#                 torch.cuda.empty_cache()\n",
    "#                 data_batch = data[idx:idx+batch_size].view(-1,IMG_SIZE*IMG_SIZE*3).float().to(device)\n",
    "#                 batch_size = data_batch.shape[0]\n",
    "#                 noise = torch.randn((batch_size,z_dim)).to(device)\n",
    "#                 fake = gen(noise)\n",
    "#                 desc_fake = desc(fake).view(-1)\n",
    "#                 lossD_fake = criterion(desc_fake,torch.zeros_like(desc_fake))\n",
    "#                 desc_real = desc(data_batch).view(-1)\n",
    "#                 lossD_real = criterion(desc_real,torch.ones_like(desc_real))\n",
    "#                 lossD = (lossD_fake/lossD_real)/2\n",
    "#                 desc.zero_grad()\n",
    "#                 lossD.backward(retain_graph=True)\n",
    "#                 optimizer_desc.step()\n",
    "#                 output = desc(fake).view(-1)\n",
    "#                 lossG = criterion(output,torch.ones_like(output))\n",
    "#                 gen.zero_grad()\n",
    "#                 lossG.backward()\n",
    "#                 optimizer_gen.step()\n",
    "#             except Exception as e:\n",
    "#                 pass\n",
    "#         epochs_iter.set_description(f'lossD - {lossD.item()} | lossG - {lossG.item()}')\n",
    "#         wandb.log({'lossD':lossD.item()})\n",
    "#         wandb.log({'lossG':lossG.item()})\n",
    "#     with torch.no_grad():\n",
    "#         fake = gen(fixed_noise).view(-1,3,IMG_SIZE,IMG_SIZE)\n",
    "#         img_grid_fake = torchvision.utils.make_grid(fake, normalize=True)\n",
    "#         wandb.log({'img':wandb.Image(img_grid_fake)})\n",
    "#     wandb.finish()"
   ]
  },
  {
   "cell_type": "code",
   "execution_count": 17,
   "id": "c6b6ddf8-da20-4e99-9822-cc17d0afa8ca",
   "metadata": {},
   "outputs": [],
   "source": [
    "def accuracy_fake(desc_fake):\n",
    "    correct = 0\n",
    "    total = 0\n",
    "    preds = np.round(np.array(desc_fake.cpu().detach().numpy()))\n",
    "    for pred in preds:\n",
    "        if pred == 0:\n",
    "            correct += 1\n",
    "        total += 1\n",
    "    acc = round(correct / total,3)\n",
    "    return acc\n",
    "def accuracy_real(desc_real):\n",
    "    correct = 0\n",
    "    total = 0\n",
    "    preds = np.round(np.array(desc_real.cpu().detach().numpy()))\n",
    "    for pred in preds:\n",
    "        if pred == 1:\n",
    "            correct += 1\n",
    "        total += 1\n",
    "    acc = round(correct / total,3)\n",
    "    return acc"
   ]
  },
  {
   "cell_type": "code",
   "execution_count": null,
   "id": "08db3da4-ae43-4ad7-96d2-8e6247394ddc",
   "metadata": {},
   "outputs": [],
   "source": []
  },
  {
   "cell_type": "code",
   "execution_count": null,
   "id": "c4589834-cb85-4336-acc1-07d06f8635db",
   "metadata": {},
   "outputs": [],
   "source": []
  },
  {
   "cell_type": "code",
   "execution_count": null,
   "id": "420b8201-2727-4ac9-8b19-ae4c63470d9d",
   "metadata": {},
   "outputs": [],
   "source": []
  },
  {
   "cell_type": "code",
   "execution_count": null,
   "id": "d87e97dc-2d73-4d0f-862e-9a2577e83ffc",
   "metadata": {},
   "outputs": [],
   "source": []
  },
  {
   "cell_type": "code",
   "execution_count": null,
   "id": "a8b7366f-4894-423d-8c6e-795b4166762a",
   "metadata": {},
   "outputs": [],
   "source": []
  },
  {
   "cell_type": "code",
   "execution_count": null,
   "id": "d0e7829e-aa08-46a8-b072-03ccbd447832",
   "metadata": {},
   "outputs": [],
   "source": []
  },
  {
   "cell_type": "code",
   "execution_count": null,
   "id": "af628470-1b47-418f-a87e-5cf2d0cf6d76",
   "metadata": {},
   "outputs": [],
   "source": []
  },
  {
   "cell_type": "code",
   "execution_count": null,
   "id": "a3b8fb3d-95d6-45ab-99f9-dec9e6430227",
   "metadata": {},
   "outputs": [],
   "source": []
  }
 ],
 "metadata": {
  "kernelspec": {
   "display_name": "Python 3.7.3 64-bit ('base': conda)",
   "language": "python",
   "name": "python373jvsc74a57bd0210f9608a45c0278a93c9e0b10db32a427986ab48cfc0d20c139811eb78c4bbc"
  },
  "language_info": {
   "codemirror_mode": {
    "name": "ipython",
    "version": 3
   },
   "file_extension": ".py",
   "mimetype": "text/x-python",
   "name": "python",
   "nbconvert_exporter": "python",
   "pygments_lexer": "ipython3",
   "version": "3.7.7"
  }
 },
 "nbformat": 4,
 "nbformat_minor": 5
}
